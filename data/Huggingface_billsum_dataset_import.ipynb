{
 "cells": [
  {
   "cell_type": "markdown",
   "metadata": {},
   "source": [
    "### Importing dataset from hugging face \n",
    "- In this file we will download the billsum dataset and extract the text and summary from it.Then save in json format as in reallife aslo data will be stored in the same form in our database.\n",
    "\n",
    "- I have reduced the datset due to the limitation of number of input tokens in model but In practice also the reviews of the customers will nto be that big."
   ]
  },
  {
   "cell_type": "markdown",
   "metadata": {},
   "source": [
    "- In this dataset we have text & summary. Text is the longer version of the statement and summary is the shorter version of the statement.\n",
    "- This can be used to check the AI agent accuracy.\n",
    "- We can use this dataset to train the model to generate summary of the text.\n",
    "\n",
    "- The main point is that due to computation limitation I tool very less amount of just training data. But in real life we will take big chunk of training data and test the model in test and validation dataset."
   ]
  },
  {
   "cell_type": "code",
   "execution_count": 2,
   "metadata": {},
   "outputs": [
    {
     "data": {
      "application/vnd.jupyter.widget-view+json": {
       "model_id": "ce6bebaaf03640e996fa59cdf39a2d21",
       "version_major": 2,
       "version_minor": 0
      },
      "text/plain": [
       "VBox(children=(HTML(value='<center> <img\\nsrc=https://huggingface.co/front/assets/huggingface_logo-noborder.sv…"
      ]
     },
     "metadata": {},
     "output_type": "display_data"
    }
   ],
   "source": [
    "# Login to the Hugging Face Hub for private model access and this is how we can upload our models too....\n",
    "from huggingface_hub import notebook_login\n",
    "notebook_login()"
   ]
  },
  {
   "cell_type": "code",
   "execution_count": 5,
   "metadata": {},
   "outputs": [],
   "source": [
    "# to read and write the data in the format of JSON and to interact with the file system. \n",
    "import json\n",
    "import os"
   ]
  },
  {
   "cell_type": "code",
   "execution_count": 6,
   "metadata": {},
   "outputs": [],
   "source": [
    "# datasets is a huggingface library from where we can extract the data and then use it for our purpose.\n",
    "from datasets import load_dataset\n",
    "# load only the data from the california region. \n",
    "billsum = load_dataset(\"billsum\", split=\"ca_test\")"
   ]
  },
  {
   "cell_type": "code",
   "execution_count": 7,
   "metadata": {},
   "outputs": [],
   "source": [
    "billsum = billsum.train_test_split(test_size=0.994)"
   ]
  },
  {
   "cell_type": "markdown",
   "metadata": {},
   "source": [
    "Extracting the summary and text from billsum dataset."
   ]
  },
  {
   "cell_type": "code",
   "execution_count": 43,
   "metadata": {},
   "outputs": [
    {
     "data": {
      "text/plain": [
       "(7, 3)"
      ]
     },
     "execution_count": 43,
     "metadata": {},
     "output_type": "execute_result"
    }
   ],
   "source": [
    "billsum[\"test\"][\"title\"], \n",
    "billsum[\"test\"][\"summary\"]\n",
    "\n",
    "billsum[\"test\"][\"text\"] \n",
    "billsum[\"train\"].shape"
   ]
  },
  {
   "cell_type": "code",
   "execution_count": 51,
   "metadata": {},
   "outputs": [
    {
     "data": {
      "text/plain": [
       "[{'text': 'The people of the State of California do enact as follows:\\n\\n\\nSECTION 1.\\nSection 18150 of the Penal Code is amended to read:\\n18150.\\n(a) (1) An immediate family member, an employer, a coworker, a mental health worker who has seen the person as a patient in the prior six months, an employee of a secondary or postsecondary school that the person has attended in the last six months, or a law enforcement officer may file a petition requesting that the court issue an ex parte gun violence restraining order enjoining the subject of the petition from having in his or her custody or control, owning, purchasing, possessing, or receiving a firearm or ammunition.\\n(2) For purposes of this subdivision, “immediate family member” has the same meaning as in paragraph (3) of subdivision (b) of Section 422.4.\\n(3) Nothing in this chapter shall be construed to require a person described in paragraph (1) to seek a gun violence restraining order.\\n(b) A court may issue an ex parte gun violence restraining order if the petition, supported by an affidavit made in writing and signed by the petitioner under oath, or an oral statement taken pursuant to subdivision (a) of Section 18155, and any additional information provided to the court shows that there is a substantial likelihood that both of the following are true:\\n(1) The subject of the petition poses a significant danger, in the near future, of causing personal injury to himself, herself, or another by having in his or her custody or control, owning, purchasing, possessing, or receiving a firearm as determined by considering the factors listed in Section 18155.\\n(2) An ex parte gun violence restraining order is necessary to prevent personal injury to the subject of the petition or another because less restrictive alternatives either have been tried and found to be ineffective, or are inadequate or inappropriate for the circumstances of the subject of the petition.\\n(c) An affidavit supporting a petition for the issuance of an ex parte gun violence restraining order shall set forth the facts tending to establish the grounds of the petition, or the reason for believing that they exist.\\n(d) An ex parte order under this chapter shall be issued or denied on the same day that the petition is submitted to the court, unless the petition is filed too late in the day to permit effective review, in which case the order shall be issued or denied on the next day of judicial business in sufficient time for the order to be filed that day with the clerk of the court.\\nSEC. 2.\\nSection 18170 of the Penal Code is amended to read:\\n18170.\\n(a) (1) An immediate family member, an employer, a coworker, a mental health worker who has seen the person as a patient in the prior six months, an employee of a secondary or postsecondary school that the person has attended in the last six months, or a law enforcement officer may request that a court, after notice and a hearing, issue a gun violence restraining order enjoining the subject of the petition from having in his or her custody or control, owning, purchasing, possessing, or receiving a firearm or ammunition for a period of one year.\\n(2) Nothing in this chapter shall be construed to require a person described in paragraph (1) to seek a gun violence restraining order.\\n(b) For purposes of this subdivision, “immediate family member” has the same meaning as in paragraph (3) of subdivision (b) of Section 422.4.\\nSEC. 3.\\nSection 18190 of the Penal Code is amended to read:\\n18190.\\n(a) (1) An immediate family member of a restrained person, an employer, a coworker, a mental health worker who has seen the person as a patient in the prior six months, an employee of a secondary or postsecondary school that the person has attended in the last six months, or a law enforcement officer may request a renewal of a gun violence restraining order at any time within the three months before the expiration of a gun violence restraining order.\\n(2) For purposes of this subdivision, “immediate family member” has the same meaning as in paragraph (3) of subdivision (b) of Section 422.4.\\n(3) Nothing in this chapter shall be construed to require a person described in paragraph (1) to seek a gun violence restraining order.\\n(b) A court may, after notice and a hearing, renew a gun violence restraining order issued under this chapter if the petitioner proves, by clear and convincing evidence, that paragraphs (1) and (2) of subdivision (b) of Section 18175 continue to be true.\\n(c) In determining whether to renew a gun violence restraining order issued under this chapter, the court shall consider evidence of the facts identified in paragraph (1) of subdivision (b) of Section 18155 and any other evidence of an increased risk for violence, including, but not limited to, evidence of any of the facts identified in paragraph (2) of subdivision (b) of Section 18155.\\n(d) At the hearing, the petitioner shall have the burden of proving, by clear and convincing evidence, that paragraphs (1) and (2) of subdivision (b) of Section 18175 are true.\\n(e) If the renewal petition is supported by clear and convincing evidence, the court shall renew the gun violence restraining order issued under this chapter.\\n(f) The renewal of a gun violence restraining order issued pursuant to this section shall have a duration of one year, subject to termination by further order of the court at a hearing held pursuant to Section 18185 and further renewal by further order of the court pursuant to this section.\\n(g) A gun violence restraining order renewed pursuant to this section shall include the information identified in subdivision (a) of Section 18180.',\n",
       "  'summary': 'Existing law authorizes a court to issue an ex parte gun violence restraining order prohibiting the subject of the petition from having in his or her custody or control, owning, purchasing, possessing, or receiving, or attempting to purchase or receive, a firearm or ammunition when it is shown that there is a substantial likelihood that the subject of the petition poses a significant danger of harm to himself, herself, or another in the near future by having in his or her custody or control, owning, purchasing, possessing, or receiving a firearm, and that the order is necessary to prevent personal injury to himself, herself, or another, as specified. Existing law requires the ex parte order to expire no later than 21 days after the date on the order. Existing law also authorizes a court to issue a gun violence restraining order prohibiting the subject of the petition from having in his or her custody or control, owning, purchasing, possessing, or receiving, or attempting to purchase or receive, a firearm or ammunition for a period of one year when there is clear and convincing evidence that the subject of the petition, or a person subject to an ex parte gun violence restraining order, as applicable, poses a significant danger of personal injury to himself, herself, or another by having in his or her custody or control, owning, purchasing, possessing, or receiving a firearm, and that the order is necessary to prevent personal injury to himself, herself, or another, as specified. Existing law authorizes renewal of a gun violence restraining order within 3 months of the order’s expiration. Petitions for ex parte, one-year, and renewed gun violence restraining orders may be made by an immediate family member of the person or by a law enforcement officer.\\nThis bill would also authorize an employer, a coworker, a mental health worker who has seen the person as a patient in the last 6 months, or an employee of a secondary or postsecondary school that the person has attended in the last 6 months to file a petition for an ex parte, one-year, or renewed gun violence restraining order. This bill would also specify that these provisions shall not be construed to require any of those persons to seek a gun violence restraining order.'},\n",
       " {'text': 'The people of the State of California do enact as follows:\\n\\n\\nSECTION 1.\\n(a) The Legislature finds and declares all of the following:\\n(1) Park access, outdoor education, and outdoor recreational experiences are important to the health and well-being of all California citizens as well as the continuing stewardship of our natural resources. Many California communities, however, lack equitable access to parks and other open-space areas. This lack of access to the outdoors contributes to higher incidences of certain health ailments, such as diabetes, hypertension,\\nobesity,\\nand nature deficit disorder, and other negative social indicators, especially in low-income communities.\\n(2) According to the recent Parks Forward Commission report,\\nreleased in February 2015,\\nimproving access to parks, outdoor experiences, and recreational opportunities, particularly for youth and young adults in disadvantaged communities, will lead to more healthy lifestyles, better educational outcomes, and improvements to the overall well-being of\\nCalifornia citizens,\\nCalifornia’s citizens\\nand\\ncommunities,\\nand\\nas well as\\nour natural environment.\\n(3)\\nThe Legislature enacted\\nChapter 663 of the Statutes of\\n2003, which\\n2003\\nestablished the Outdoor Environmental Education Program and required a study on the benefits of outdoor environmental education for at-risk youth and underserved demographic groups. The study found that the science test scores of children who participated in the program were raised by 27 percent, and that these children also had improved conflict resolution and problem solving skills, better self-esteem, and were more motivated to learn. The program ended on July 1, 2005.\\n(4)\\nThe Legislature enacted\\nResolution Chapter 101 of the Statutes of\\n2006, which\\n2006\\nrecognized the importance of local recreational and park agencies in the effort to reverse negative trends in inactivity, obesity, diabetes, and other health problems among Californians and encouraged the state to use, and partner with, local recreation and park providers to create a healthier state.\\n(b) It is the intent of the Legislature to expand access to parks and other outdoor educational and recreational opportunities in underserved areas by, among other things, convening and developing strategic partnerships to facilitate, promote, and enhance access to parks, as well as outdoor educational and recreational experiences in underserved communities.\\nSEC. 2.\\nChapter 14 (commencing with Section 5880) is added to Division 5 of the Public Resources Code, to read:\\nCHAPTER  14. Outdoor Environmental Education and Recreation Grants Program\\n5880.\\n(a) On or before March 30, 2016, the\\ndepartment\\ndirector\\nshall establish an Outdoor Environmental Education and Recreation Grants Program to increase the ability of underserved and at-risk populations to participate in outdoor recreation and educational experiences by awarding grants to public organizations,\\nincluding local governments and local education agencies,\\nnonprofit organizations, or both.\\n(b) In developing the\\ngrant\\nprogram, the director shall do both of the following:\\n(1) Develop\\ncriteria and procedures\\ncriteria, procedures, and accountability measures\\nas may be necessary to implement the grant program.\\n(2) Administer the\\ngrant\\nprogram to ensure that priority is given to underserved populations, including both urban and rural areas and low-income communities where participation in\\nan\\noutdoor environmental education and recreation\\nprogram\\nprograms\\nhas been limited.\\n(c) The director may develop an advisory task force\\ncomposed\\ncomprised\\nof public, private, nonprofit, academic, and other entities and individuals to assist in the development of the\\ngrant\\nprogram, including representatives of the California Environmental Education Interagency Network.\\n(d) The director shall give priority for funding to\\nan\\noutdoor environmental education and recreation\\nprogram\\nprograms\\nthat primarily\\nserves\\nprovide outreach to and serve\\nstudents who are eligible for free or reduced-price meals, foster youth, or pupils of limited English proficiency, as defined in Section 42238.01 of the Education Code, and\\nhas at least\\nhave\\none\\nor more\\nof the following attributes:\\n(1)\\nDemonstrates\\nDemonstrate\\npartnerships between public, private, and nonprofit entities.\\n(2)\\nContributes\\nContribute\\nto healthy lifestyles, sound nutritional habits, and improved outdoor educational and recreational experiences.\\n(3)\\nMaximizes\\nMaximize\\nthe number of participants that can be served.\\n(4)\\nCommits\\nCommit\\nin-kind resources.\\n(5)\\nHas\\nHave\\na curriculum that is aligned to the science content standards for California public schools adopted by the State Board of Education.\\n(6)\\nFosters\\nFoster\\nstewardship of the environment and\\nincludes,\\ninclude\\nwhen available, curriculum established pursuant to Part 4 (commencing with Section 71300) of Division 34.\\n(7)\\nIntegrates\\nIntegrate\\ninstruction in science, technology, engineering, and mathematics.\\n(8)\\nIncludes\\nInclude\\nservice learning and community outreach components for purposes of building partnerships between participants and local communities.\\n(e) Reverted and unencumbered funds from the California Clean Water, Clean Air, Safe Neighborhood Parks, and Coastal Protection Act of 2002 may be appropriated by the Legislature for the purpose of this chapter, if consistent with the requirements of the California Clean Water, Clean Air, Safe Neighborhood Parks, and Coastal Protection Act of 2002. To the extent that grants may be awarded from those funds, they shall be awarded only to programs that meet all of the criteria specified in Section 5095.4.\\n(f) The director may also accept private donations made for the support of the program. The director may solicit and accept private funding to help\\nsupplement\\noffset\\nthe costs of the program. These funding sources may include, but are not limited to, foundations, corporate funding, crowdfunding resources, donation drives, or any other funding sources that may be available.\\n(g) All moneys received pursuant to subdivisions (e) and (f) for the purpose of this program shall be deposited in the California Youth Outdoor Education Account, which is hereby created within the State Park and Recreation Fund. Notwithstanding Section 13340 of the Government Code, moneys in the California Youth Outdoor Education Account shall be continuously appropriated to the department for the purposes of this chapter.\\n(h) (1) The department shall gather information from applicants each award year for purposes of evaluating the effectiveness of outdoor environmental education and recreation programs in achieving the objectives of the grant program. The department shall annually summarize and report this information for the previous award year, commencing on or before September 1, 2017, to the appropriate budget and fiscal committees of the Legislature. The information in the annual report shall include the total number of children served, the total number and types of entities that received grant awards, appropriate recommendations to improve the grant program, partnerships formed, educational objectives achieved, the total number of applications received, and the total number of children who would have been served had all applicants for the award year received grant awards.\\n(2) A report pursuant to paragraph (1) shall be submitted in compliance with Section 9795 of the Government Code.\\nSEC. 3.\\nSection 5095.4 of the Public Resources Code is amended to read:\\n5095.4.\\n(a) The director, in consultation with the State Department of Education, shall develop a competitive grant program to assist state parks, state conservancies in existence as of January 1, 2003, urbanized and heavily urbanized local agencies, and community-based organizations within those jurisdictions, working in collaboration, to provide outdoor educational opportunities to children.\\n(1) Applicant entities shall provide a 25-percent matching contribution in community resources. The matching contributions may be in the form of money, including funds from other state or local assistance programs, gifts of real property, equipment, and consumable supplies, volunteer services, free or reduced-cost use of land, facilities, or equipment, and bequests and income from wills, estates, and trusts. The department may establish findings for hardships to waive the matching requirement when an applicant cannot meet the requirement.\\n(2) The department may give additional consideration to applicant entities collaborating with other entities, including, but not limited to, school districts, faith-based groups, and others providing outreach programs to identify and attract urbanized youth most in need of organized, constructive recreational activities.\\n(b) The department shall make one-third of any funds appropriated for the purposes of this chapter available to give special priority to providing increased access for elementary schoolage children in grades 2 to 8, inclusive, to conservancy or state, community, and regional park properties, including public properties within the coastal zone, and, in addition, shall give priority, in awarding a grant pursuant to this section, to all of the following:\\n(1) Programs that use curriculum tied to the science content standards and science framework adopted by the State Board of Education.\\n(2) Applicants that serve children with family incomes below the statewide average, based on the most recent figures computed and established by the Department of Finance.\\n(3) Applicants that provide access to children who are underserved or lack access to parks or other outdoor venues suitable to conduct appropriate environmental education instruction.\\n(4) Applicants that have developed working collaboratives to develop environmental education partnerships.\\n(5) Applicants working in collaboration with local educational agencies to identify those children lacking adequate opportunities to access outdoor environmental education curriculum or innovative or alternative recreation programming.\\n(c) The amount of a grant awarded pursuant to this section may not be less than twenty thousand dollars ($20,000) or more than two hundred thousand dollars ($200,000). A grant may be expended for any of the following purposes:\\n(1) Staffing that is directly associated with the programming.\\n(2) Staff training or development directly associated with the programming.\\n(3) Costs associated with transporting youth between a community or school and the proposed environmental education venue.\\n(4) Medical insurance for the participants, only if the insurance is a requirement pursuant to the activity.\\n(5) Operational costs, such as the rental equipment, food, and supplies.\\n(6) Applicants that can demonstrate that the administrative costs associated with this activity will not exceed more than 7.5 percent of the amount of the grant.\\n(d) The department may gather information from the applicants as to the effectiveness of these programs in meeting program objectives. The department shall summarize this information and report to the appropriate budget and fiscal committees of both houses of the Legislature as to the number of children served, the educational objectives met, and the level of demand.\\n(e) Applicant agencies may enter into contracts with other public agencies or entities to provide unique interpretive skills or to present authentic, curriculum-based programs in units of conservancy properties or state, community, or regional park systems for services not otherwise provided. The purpose of this subdivision is to authorize the applicants to provide programming services, equipment, and materials that assist in the curriculum program or provide educational activities that assist in the presentation of cultural traditions.',\n",
       "  'summary': 'Existing law authorizes the expenditure of state funds for local assistance grants to cities, counties, and districts for the acquisition and development of various park and recreational areas and facilities. Existing law, the State Urban Parks and Healthy Communities Act, requires the Director of Parks and Recreation, in consultation with the State Department of Education, to develop a competitive grant program to assist state parks, state conservancies in existence as of January 1, 2003, urbanized and heavily urbanized local agencies, and community-based organizations within those jurisdictions, to provide outdoor educational opportunities to children.\\nThis bill would require the Department of Parks and Recreation to establish, on or before March 30, 2016, an Outdoor Environmental Education and Recreation Grants Program with the purpose of increasing the ability of underserved and at-risk populations to participate in outdoor recreation and educational experiences by awarding grants to public organizations, nonprofit organizations, or both. The bill would require the director to develop\\ncriteria\\ncriteria, procedures, and accountability measures\\nas may be necessary to implement the program and to administer the program to ensure that priority is given to underserved populations, as specified. The bill would authorize the director to develop an advisory task force to assist in the development of the program and would require the director to give priority funding to outdoor environmental education and recreation programs that have specified attributes.\\nThis bill would authorize the director to accept private donations made for the support of the program and would authorize the director to solicit and accept private funding\\nsources\\nto help\\nsupplement\\noffset\\nthe costs of the program. The bill would provide that, to the extent specified bond funds are available for grants under the program, those funds shall be awarded to programs that meet the criteria of the State Urban Parks and Healthy Communities Act. The bill would require that all moneys received for the purposes of the program be deposited into the California Youth Outdoor Education Account, which would be created by the bill and would be continuously appropriated for purposes of the program, thereby making an appropriation.\\nThis bill would require the department to gather specified information from applicants each award year and to annually report this information, commencing on or before September 1, 2017, to the appropriate budget and fiscal committees of the Legislature.'}]"
      ]
     },
     "execution_count": 51,
     "metadata": {},
     "output_type": "execute_result"
    }
   ],
   "source": [
    "# extracting the text and summary data from the reduced dataset for out purpose of the task.\n",
    "\n",
    "data = [{'text': row['text'], 'summary': row['summary']} for row in billsum['train']]\n",
    "data[0:2]"
   ]
  },
  {
   "cell_type": "code",
   "execution_count": 11,
   "metadata": {},
   "outputs": [],
   "source": [
    "# Save the data to a JSON file\n",
    "# \"w\" write mode\n",
    "with open(\"billsum_train.json\", \"w\") as json_file:\n",
    "# here we are dumping the data into the json file with the indent of 4. And that is how we are creating a new Json file. \n",
    "    json.dump(data, json_file, indent=4)\n"
   ]
  },
  {
   "cell_type": "code",
   "execution_count": 15,
   "metadata": {},
   "outputs": [
    {
     "name": "stdout",
     "output_type": "stream",
     "text": [
      "The dotenv extension is already loaded. To reload it, use:\n",
      "  %reload_ext dotenv\n"
     ]
    }
   ],
   "source": [
    "# making API key as the environment variable to access the Open AI model. \n",
    "%load_ext dotenv\n",
    "%dotenv"
   ]
  },
  {
   "cell_type": "code",
   "execution_count": null,
   "metadata": {},
   "outputs": [],
   "source": [
    "# to get the env variabes we use the below line.\n",
    "\n",
    "os.getenv(\"OPENAI_API_KEY\")"
   ]
  },
  {
   "cell_type": "code",
   "execution_count": null,
   "metadata": {},
   "outputs": [],
   "source": [
    "\n"
   ]
  },
  {
   "cell_type": "code",
   "execution_count": null,
   "metadata": {},
   "outputs": [],
   "source": []
  }
 ],
 "metadata": {
  "kernelspec": {
   "display_name": "llms",
   "language": "python",
   "name": "python3"
  },
  "language_info": {
   "codemirror_mode": {
    "name": "ipython",
    "version": 3
   },
   "file_extension": ".py",
   "mimetype": "text/x-python",
   "name": "python",
   "nbconvert_exporter": "python",
   "pygments_lexer": "ipython3",
   "version": "3.11.11"
  }
 },
 "nbformat": 4,
 "nbformat_minor": 2
}
